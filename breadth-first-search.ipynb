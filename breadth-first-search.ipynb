{
 "cells": [
  {
   "cell_type": "markdown",
   "metadata": {},
   "source": [
    "## Breadth-First Search"
   ]
  },
  {
   "cell_type": "code",
   "execution_count": 1,
   "metadata": {},
   "outputs": [],
   "source": [
    "# Import numpy, Enum and Queue\n",
    "import numpy as np\n",
    "from enum import Enum\n",
    "from queue import Queue"
   ]
  },
  {
   "cell_type": "code",
   "execution_count": 2,
   "metadata": {},
   "outputs": [],
   "source": [
    "# Define a start and goal location\n",
    "start = (0, 0)\n",
    "goal = (4, 4)\n",
    "\n",
    "# Define your grid-based state space of obstacles and free space\n",
    "grid = np.array([\n",
    "    [0, 1, 0, 0, 0, 0],\n",
    "    [0, 1, 0, 0, 0, 0],\n",
    "    [0, 1, 0, 1, 0, 0],\n",
    "    [0, 0, 0, 1, 1, 0],\n",
    "    [0, 0, 0, 1, 0, 0],\n",
    "])"
   ]
  },
  {
   "cell_type": "markdown",
   "metadata": {},
   "source": [
    " [S, 1, 0, 0, 0, 0] \n",
    " \n",
    " [0, 1, 0, 0, 0, 0]\n",
    " \n",
    " [0, 1, 0, 1, 0, 0]\n",
    " \n",
    " [0, 0, 0, 1, 1, 0]\n",
    " \n",
    " [0, 0, 0, 1, E, 0]"
   ]
  },
  {
   "cell_type": "code",
   "execution_count": 3,
   "metadata": {},
   "outputs": [],
   "source": [
    "# Define your action set using Enum()\n",
    "class Action(Enum): \n",
    "    # Actions are tuples corresponding to movements in (i, j)\n",
    "    LEFT = (0, -1)\n",
    "    RIGHT = (0, 1)\n",
    "    UP = (-1, 0)\n",
    "    DOWN = (1, 0)\n",
    "    \n",
    "    # Define string characters for each action\n",
    "    def __str__(self):\n",
    "        if self == self.LEFT:\n",
    "            return '<'\n",
    "        elif self == self.RIGHT:\n",
    "            return '>'\n",
    "        elif self == self.UP:\n",
    "            return '^'\n",
    "        elif self == self.DOWN:\n",
    "            return 'v'"
   ]
  },
  {
   "cell_type": "code",
   "execution_count": 4,
   "metadata": {},
   "outputs": [],
   "source": [
    "# Define a function that returns a list of valid actions \n",
    "# through the grid from the current node\n",
    "def valid_actions(grid, current_node):\n",
    "    \"\"\"\n",
    "    Returns a list of valid actions given a grid and current node.\n",
    "    \"\"\"\n",
    "    # First define a list of all possible actions\n",
    "    valid = [Action.UP, Action.LEFT, Action.RIGHT, Action.DOWN]\n",
    "    # Retrieve the grid shape and position of the current node\n",
    "    n, m = grid.shape[0] - 1, grid.shape[1] - 1\n",
    "    x, y = current_node\n",
    "    \n",
    "    # check if the node is off the grid or it's an obstacle\n",
    "    # If it is either, remove the action that takes you there\n",
    "    if x - 1 < 0 or grid[x-1, y] == 1:\n",
    "        valid.remove(Action.UP)\n",
    "    if x + 1 > n or grid[x+1, y] == 1:\n",
    "        valid.remove(Action.DOWN)\n",
    "    if y - 1 < 0 or grid[x, y-1] == 1:\n",
    "        valid.remove(Action.LEFT)\n",
    "    if y + 1 > m or grid[x, y+1] == 1:\n",
    "        valid.remove(Action.RIGHT)\n",
    "        \n",
    "    return valid"
   ]
  },
  {
   "cell_type": "code",
   "execution_count": 5,
   "metadata": {},
   "outputs": [],
   "source": [
    "# Define a function to visualize the path\n",
    "def visualize_path(grid, path, start):\n",
    "    \"\"\"\n",
    "    Given a grid, path and start position\n",
    "    return visual of the path to the goal.\n",
    "    \n",
    "    'S' -> start \n",
    "    'G' -> goal\n",
    "    'O' -> obstacle\n",
    "    ' ' -> empty\n",
    "    \"\"\"\n",
    "    # Define a grid of string characters for visualization\n",
    "    sgrid = np.zeros(np.shape(grid), dtype=np.str)\n",
    "    sgrid[:] = ' '\n",
    "    sgrid[grid[:] == 1] = 'O'\n",
    "    \n",
    "    pos = start\n",
    "    # Fill in the string grid\n",
    "    for a in path:\n",
    "        da = a.value\n",
    "        sgrid[pos[0], pos[1]] = str(a)\n",
    "        pos = (pos[0] + da[0], pos[1] + da[1])\n",
    "    sgrid[pos[0], pos[1]] = 'G'\n",
    "    sgrid[start[0], start[1]] = 'S'  \n",
    "    \n",
    "    return sgrid"
   ]
  },
  {
   "cell_type": "code",
   "execution_count": 6,
   "metadata": {},
   "outputs": [
    {
     "data": {
      "text/plain": [
       "array([['S', 'O', ' ', ' ', ' ', ' '],\n",
       "       [' ', 'O', ' ', ' ', ' ', ' '],\n",
       "       [' ', 'O', ' ', 'O', ' ', ' '],\n",
       "       [' ', ' ', ' ', 'O', 'O', ' '],\n",
       "       [' ', ' ', ' ', 'O', ' ', ' ']], \n",
       "      dtype='<U1')"
      ]
     },
     "execution_count": 6,
     "metadata": {},
     "output_type": "execute_result"
    }
   ],
   "source": [
    "# Null path\n",
    "visualize_path(grid, [], start)"
   ]
  },
  {
   "cell_type": "markdown",
   "metadata": {},
   "source": [
    "### Breadth-First Algorithm"
   ]
  },
  {
   "cell_type": "code",
   "execution_count": 13,
   "metadata": {},
   "outputs": [],
   "source": [
    "# Define your breadth-first search function here\n",
    "def breadth_first(grid, start, goal):\n",
    "\n",
    "    queue = Queue()\n",
    "    # start by putting the start sate into the queue\n",
    "    queue.put(start)\n",
    "\n",
    "    visited = set()\n",
    "    visited.add(start)\n",
    "    \n",
    "    branch = {}\n",
    "    found = False\n",
    "    \n",
    "    # Run loop while queue is not empty\n",
    "    while not queue.empty():\n",
    "        # Remove the first element from the queue\n",
    "        current_node = queue.get()\n",
    "        \n",
    "        # Check if the current node corresponds to the goal state\n",
    "        if current_node == goal:        \n",
    "            print('Found a path.')\n",
    "            found = True\n",
    "            break\n",
    "        else:\n",
    "            # TODO: Get the new nodes connected to the current node\n",
    "            # Iterate through each of the new nodes and:\n",
    "            # If the node has not been visited you will need to\n",
    "            # 1. Mark it as visited\n",
    "            # 2. Add it to the queue\n",
    "            # 3. Add how you got there to the branch dictionary \n",
    "            for action in valid_actions(grid, current_node):\n",
    "                # delta of performing the action\n",
    "                partial_action = action.value\n",
    "                next_node = (current_node[0] + partial_action[0], current_node[1] + partial_action[1])\n",
    "                if next_node not in visited:                \n",
    "                    visited.add(next_node)               \n",
    "                    queue.put(next_node)\n",
    "                    branch[next_node] = (current_node, action)\n",
    "    \n",
    "    # Now, if you found a path, retrace your steps through \n",
    "    # the branch dictionary to find out how you got there!\n",
    "    \n",
    "    print(branch)\n",
    "    \n",
    "    path = []\n",
    "    if found:\n",
    "        # retrace steps\n",
    "        path = []\n",
    "        n = goal\n",
    "        while branch[n][0] != start:\n",
    "            path.append(branch[n][1])\n",
    "            n = branch[n][0]\n",
    "        path.append(branch[n][1])\n",
    "            \n",
    "    return path[::-1]"
   ]
  },
  {
   "cell_type": "markdown",
   "metadata": {},
   "source": [
    "### Executing the search\n",
    "\n",
    "Run `breadth_first()` and reference the grid to see if the path makes sense."
   ]
  },
  {
   "cell_type": "code",
   "execution_count": 14,
   "metadata": {},
   "outputs": [
    {
     "name": "stdout",
     "output_type": "stream",
     "text": [
      "Found a path.\n",
      "{(3, 2): ((3, 1), <Action.RIGHT: (0, 1)>), (1, 3): ((1, 2), <Action.RIGHT: (0, 1)>), (3, 0): ((2, 0), <Action.DOWN: (1, 0)>), (0, 4): ((0, 3), <Action.RIGHT: (0, 1)>), (1, 4): ((1, 3), <Action.RIGHT: (0, 1)>), (0, 5): ((0, 4), <Action.RIGHT: (0, 1)>), (1, 0): ((0, 0), <Action.DOWN: (1, 0)>), (4, 2): ((3, 2), <Action.DOWN: (1, 0)>), (0, 3): ((0, 2), <Action.RIGHT: (0, 1)>), (2, 5): ((1, 5), <Action.DOWN: (1, 0)>), (3, 5): ((2, 5), <Action.DOWN: (1, 0)>), (1, 2): ((2, 2), <Action.UP: (-1, 0)>), (2, 0): ((1, 0), <Action.DOWN: (1, 0)>), (3, 1): ((3, 0), <Action.RIGHT: (0, 1)>), (4, 4): ((4, 5), <Action.LEFT: (0, -1)>), (0, 2): ((1, 2), <Action.UP: (-1, 0)>), (1, 5): ((1, 4), <Action.RIGHT: (0, 1)>), (2, 2): ((3, 2), <Action.UP: (-1, 0)>), (4, 5): ((3, 5), <Action.DOWN: (1, 0)>), (4, 0): ((3, 0), <Action.DOWN: (1, 0)>), (4, 1): ((3, 1), <Action.DOWN: (1, 0)>), (2, 4): ((1, 4), <Action.DOWN: (1, 0)>)}\n",
      "[<Action.DOWN: (1, 0)>, <Action.DOWN: (1, 0)>, <Action.DOWN: (1, 0)>, <Action.RIGHT: (0, 1)>, <Action.RIGHT: (0, 1)>, <Action.UP: (-1, 0)>, <Action.UP: (-1, 0)>, <Action.RIGHT: (0, 1)>, <Action.RIGHT: (0, 1)>, <Action.RIGHT: (0, 1)>, <Action.DOWN: (1, 0)>, <Action.DOWN: (1, 0)>, <Action.DOWN: (1, 0)>, <Action.LEFT: (0, -1)>]\n"
     ]
    }
   ],
   "source": [
    "path = breadth_first(grid, start, goal)\n",
    "print(path)"
   ]
  },
  {
   "cell_type": "code",
   "execution_count": 12,
   "metadata": {},
   "outputs": [
    {
     "data": {
      "text/plain": [
       "array([['S', 'O', ' ', ' ', ' ', ' '],\n",
       "       ['v', 'O', '>', '>', '>', 'v'],\n",
       "       ['v', 'O', '^', 'O', ' ', 'v'],\n",
       "       ['>', '>', '^', 'O', 'O', 'v'],\n",
       "       [' ', ' ', ' ', 'O', 'G', '<']], \n",
       "      dtype='<U1')"
      ]
     },
     "execution_count": 12,
     "metadata": {},
     "output_type": "execute_result"
    }
   ],
   "source": [
    "# S -> start, G -> goal, O -> obstacle\n",
    "visualize_path(grid, path, start)"
   ]
  },
  {
   "cell_type": "code",
   "execution_count": null,
   "metadata": {},
   "outputs": [],
   "source": []
  }
 ],
 "metadata": {
  "kernelspec": {
   "display_name": "Python 3",
   "language": "python",
   "name": "python3"
  },
  "language_info": {
   "codemirror_mode": {
    "name": "ipython",
    "version": 3
   },
   "file_extension": ".py",
   "mimetype": "text/x-python",
   "name": "python",
   "nbconvert_exporter": "python",
   "pygments_lexer": "ipython3",
   "version": "3.5.2"
  },
  "widgets": {
   "state": {},
   "version": "1.1.2"
  }
 },
 "nbformat": 4,
 "nbformat_minor": 2
}
